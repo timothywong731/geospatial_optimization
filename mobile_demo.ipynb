{
  "cells": [
    {
      "cell_type": "markdown",
      "id": "fc7031b6",
      "metadata": {},
      "source": [
        "# Mobile Sensor Optimization Demo\n",
        "\n",
        "This notebook demonstrates a simple framework for planning routes for non-stationary sensors. Each sensor departs from its own base location and returns to it. A mixed integer programme solved with pulp minimises total travel distance while ensuring at least 80% coverage of the operational area, and we visualise the resulting routes.\n"
      ]
    },
    {
      "cell_type": "code",
      "execution_count": null,
      "id": "7d6888d9",
      "metadata": {},
      "outputs": [],
      "source": [
        "from shapely.geometry import MultiPolygon, Point\n",
        "from geospatial_optimization import select_scan_positions, plan_sensor_routes, calculate_coverage_info\n",
        "\n",
        "# Define a simple square operational area\n",
        "operational_area = MultiPolygon([\n",
        "    [(0.0, 0.0), (0.0, 2.0), (2.0, 2.0), (2.0, 0.0)]\n",
        "])\n",
        "\n",
        "# Depot locations for three sensors\n",
        "depots = [Point(0.5, 0.5), Point(1.5, 0.5), Point(1.0, 1.5)]\n",
        "\n",
        "sensor_config = {\n",
        "    'range_km': 150,\n",
        "    'azimuth_degree': 0,\n",
        "    'fan_degree': 120,\n",
        "}\n"
      ]
    },
    {
      "cell_type": "code",
      "execution_count": null,
      "id": "9a1ce751",
      "metadata": {},
      "outputs": [],
      "source": [
        "# Choose scan positions\n",
        "scan_positions = select_scan_positions(\n",
        "    operational_area,\n",
        "    sensor_config,\n",
        "    resolution_km=50,\n",
        "    coverage_requirement=0.8,\n",
        ")\n",
        "print(f\"Selected {len(scan_positions)} scan points\")\n"
      ]
    },
    {
      "cell_type": "code",
      "execution_count": null,
      "id": "0e084ad5",
      "metadata": {},
      "outputs": [],
      "source": [
        "# Plan routes for the sensors\n",
        "routes = plan_sensor_routes(scan_positions, depots, operational_area)\n",
        "for idx, rt in enumerate(routes):\n",
        "    print(f'Sensor {idx+1} route:')\n",
        "    for pt in rt:\n",
        "        print(f'  ({pt.x:.2f}, {pt.y:.2f})')\n"
      ]
    },
    {
      "cell_type": "code",
      "execution_count": null,
      "metadata": {},
      "id": "cb4a2fe9",
      "outputs": [],
      "source": [
        "# Visualise the planned routes\n",
        "from geospatial_optimization import plot_sensor_routes\n",
        "plot_sensor_routes(operational_area, routes, sensor_config)\n"
      ]
    },
    {
      "cell_type": "code",
      "execution_count": null,
      "id": "125223a0",
      "metadata": {},
      "outputs": [],
      "source": [
        "# Estimate coverage from the planned scan positions\n",
        "info = calculate_coverage_info(operational_area, scan_positions, resolution_km=50)\n",
        "print(info)\n"
      ]
    }
  ],
  "metadata": {},
  "nbformat": 4,
  "nbformat_minor": 5
}
